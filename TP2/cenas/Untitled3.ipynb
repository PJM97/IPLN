{
 "cells": [
  {
   "cell_type": "code",
   "execution_count": 1,
   "metadata": {},
   "outputs": [],
   "source": [
    "import json\n",
    "from vega import Vega\n",
    "\n",
    "\n",
    "with open('grafo.json') as json_file:\n",
    "    view = json.load(json_file)"
   ]
  },
  {
   "cell_type": "code",
   "execution_count": 2,
   "metadata": {},
   "outputs": [
    {
     "name": "stdout",
     "output_type": "stream",
     "text": [
      "{'$schema': 'https://vega.github.io/schema/vega/v5.json', 'width': 700, 'height': 500, 'padding': 0, 'autosize': 'none', 'signals': [{'name': 'cx', 'update': 'width / 2'}, {'name': 'cy', 'update': 'height / 2'}, {'name': 'nodeRadius', 'value': 8, 'bind': {'input': 'range', 'min': 1, 'max': 50, 'step': 1}}, {'name': 'nodeCharge', 'value': -30, 'bind': {'input': 'range', 'min': -100, 'max': 10, 'step': 1}}, {'name': 'linkDistance', 'value': 30, 'bind': {'input': 'range', 'min': 5, 'max': 100, 'step': 1}}, {'name': 'static', 'value': True, 'bind': {'input': 'checkbox'}}, {'description': 'State variable for active node fix status.', 'name': 'fix', 'value': False, 'on': [{'events': 'symbol:mouseout[!event.buttons], window:mouseup', 'update': 'false'}, {'events': 'symbol:mouseover', 'update': 'fix || true'}, {'events': '[symbol:mousedown, window:mouseup] > window:mousemove!', 'update': 'xy()', 'force': True}]}, {'description': 'Graph node most recently interacted with.', 'name': 'node', 'value': None, 'on': [{'events': 'symbol:mouseover', 'update': 'fix === true ? item() : node'}]}, {'description': 'Flag to restart Force simulation upon data changes.', 'name': 'restart', 'value': False, 'on': [{'events': {'signal': 'fix'}, 'update': 'fix && fix.length'}]}], 'data': [{'name': 'node-data', 'url': 'data/miserables.json', 'format': {'type': 'json', 'property': 'nodes'}}, {'name': 'link-data', 'url': 'data/miserables.json', 'format': {'type': 'json', 'property': 'links'}}], 'scales': [{'name': 'color', 'type': 'ordinal', 'domain': {'data': 'node-data', 'field': 'group'}, 'range': {'scheme': 'category20c'}}], 'marks': [{'name': 'nodes', 'type': 'symbol', 'zindex': 1, 'from': {'data': 'node-data'}, 'on': [{'trigger': 'fix', 'modify': 'node', 'values': 'fix === true ? {fx: node.x, fy: node.y} : {fx: fix[0], fy: fix[1]}'}, {'trigger': '!fix', 'modify': 'node', 'values': '{fx: null, fy: null}'}], 'encode': {'enter': {'fill': {'scale': 'color', 'field': 'group'}, 'stroke': {'value': 'white'}}, 'update': {'size': {'signal': '2 * nodeRadius * nodeRadius'}, 'cursor': {'value': 'pointer'}}}, 'transform': [{'type': 'force', 'iterations': 300, 'restart': {'signal': 'restart'}, 'static': {'signal': 'static'}, 'signal': 'force', 'forces': [{'force': 'center', 'x': {'signal': 'cx'}, 'y': {'signal': 'cy'}}, {'force': 'collide', 'radius': {'signal': 'nodeRadius'}}, {'force': 'nbody', 'strength': {'signal': 'nodeCharge'}}, {'force': 'link', 'links': 'link-data', 'distance': {'signal': 'linkDistance'}}]}]}, {'type': 'path', 'from': {'data': 'link-data'}, 'interactive': False, 'encode': {'update': {'stroke': {'value': '#ccc'}, 'strokeWidth': {'value': 0.5}}}, 'transform': [{'type': 'linkpath', 'require': {'signal': 'force'}, 'shape': 'line', 'sourceX': 'datum.source.x', 'sourceY': 'datum.source.y', 'targetX': 'datum.target.x', 'targetY': 'datum.target.y'}]}]}\n"
     ]
    }
   ],
   "source": [
    "print(view)"
   ]
  },
  {
   "cell_type": "code",
   "execution_count": 3,
   "metadata": {},
   "outputs": [
    {
     "data": {
      "application/javascript": [
       "const spec = {\"$schema\": \"https://vega.github.io/schema/vega/v5.json\", \"width\": 700, \"height\": 500, \"padding\": 0, \"autosize\": \"none\", \"signals\": [{\"name\": \"cx\", \"update\": \"width / 2\"}, {\"name\": \"cy\", \"update\": \"height / 2\"}, {\"name\": \"nodeRadius\", \"value\": 8, \"bind\": {\"input\": \"range\", \"min\": 1, \"max\": 50, \"step\": 1}}, {\"name\": \"nodeCharge\", \"value\": -30, \"bind\": {\"input\": \"range\", \"min\": -100, \"max\": 10, \"step\": 1}}, {\"name\": \"linkDistance\", \"value\": 30, \"bind\": {\"input\": \"range\", \"min\": 5, \"max\": 100, \"step\": 1}}, {\"name\": \"static\", \"value\": true, \"bind\": {\"input\": \"checkbox\"}}, {\"description\": \"State variable for active node fix status.\", \"name\": \"fix\", \"value\": false, \"on\": [{\"events\": \"symbol:mouseout[!event.buttons], window:mouseup\", \"update\": \"false\"}, {\"events\": \"symbol:mouseover\", \"update\": \"fix || true\"}, {\"events\": \"[symbol:mousedown, window:mouseup] > window:mousemove!\", \"update\": \"xy()\", \"force\": true}]}, {\"description\": \"Graph node most recently interacted with.\", \"name\": \"node\", \"value\": null, \"on\": [{\"events\": \"symbol:mouseover\", \"update\": \"fix === true ? item() : node\"}]}, {\"description\": \"Flag to restart Force simulation upon data changes.\", \"name\": \"restart\", \"value\": false, \"on\": [{\"events\": {\"signal\": \"fix\"}, \"update\": \"fix && fix.length\"}]}], \"data\": [{\"name\": \"node-data\", \"url\": \"data/miserables.json\", \"format\": {\"type\": \"json\", \"property\": \"nodes\"}}, {\"name\": \"link-data\", \"url\": \"data/miserables.json\", \"format\": {\"type\": \"json\", \"property\": \"links\"}}], \"scales\": [{\"name\": \"color\", \"type\": \"ordinal\", \"domain\": {\"data\": \"node-data\", \"field\": \"group\"}, \"range\": {\"scheme\": \"category20c\"}}], \"marks\": [{\"name\": \"nodes\", \"type\": \"symbol\", \"zindex\": 1, \"from\": {\"data\": \"node-data\"}, \"on\": [{\"trigger\": \"fix\", \"modify\": \"node\", \"values\": \"fix === true ? {fx: node.x, fy: node.y} : {fx: fix[0], fy: fix[1]}\"}, {\"trigger\": \"!fix\", \"modify\": \"node\", \"values\": \"{fx: null, fy: null}\"}], \"encode\": {\"enter\": {\"fill\": {\"scale\": \"color\", \"field\": \"group\"}, \"stroke\": {\"value\": \"white\"}}, \"update\": {\"size\": {\"signal\": \"2 * nodeRadius * nodeRadius\"}, \"cursor\": {\"value\": \"pointer\"}}}, \"transform\": [{\"type\": \"force\", \"iterations\": 300, \"restart\": {\"signal\": \"restart\"}, \"static\": {\"signal\": \"static\"}, \"signal\": \"force\", \"forces\": [{\"force\": \"center\", \"x\": {\"signal\": \"cx\"}, \"y\": {\"signal\": \"cy\"}}, {\"force\": \"collide\", \"radius\": {\"signal\": \"nodeRadius\"}}, {\"force\": \"nbody\", \"strength\": {\"signal\": \"nodeCharge\"}}, {\"force\": \"link\", \"links\": \"link-data\", \"distance\": {\"signal\": \"linkDistance\"}}]}]}, {\"type\": \"path\", \"from\": {\"data\": \"link-data\"}, \"interactive\": false, \"encode\": {\"update\": {\"stroke\": {\"value\": \"#ccc\"}, \"strokeWidth\": {\"value\": 0.5}}}, \"transform\": [{\"type\": \"linkpath\", \"require\": {\"signal\": \"force\"}, \"shape\": \"line\", \"sourceX\": \"datum.source.x\", \"sourceY\": \"datum.source.y\", \"targetX\": \"datum.target.x\", \"targetY\": \"datum.target.y\"}]}]};\n",
       "const opt = {};\n",
       "const type = \"vega\";\n",
       "const id = \"0c91a9cb-2875-40c2-96ec-bdf1150ada26\";\n",
       "\n",
       "const output_area = this;\n",
       "\n",
       "require([\"nbextensions/jupyter-vega/index\"], function(vega) {\n",
       "  const target = document.createElement(\"div\");\n",
       "  target.id = id;\n",
       "  target.className = \"vega-embed\";\n",
       "\n",
       "  const style = document.createElement(\"style\");\n",
       "  style.textContent = [\n",
       "    \".vega-embed .error p {\",\n",
       "    \"  color: firebrick;\",\n",
       "    \"  font-size: 14px;\",\n",
       "    \"}\",\n",
       "  ].join(\"\\\\n\");\n",
       "\n",
       "  // element is a jQuery wrapped DOM element inside the output area\n",
       "  // see http://ipython.readthedocs.io/en/stable/api/generated/\\\n",
       "  // IPython.display.html#IPython.display.Javascript.__init__\n",
       "  element[0].appendChild(target);\n",
       "  element[0].appendChild(style);\n",
       "\n",
       "  vega.render(\"#\" + id, spec, type, opt, output_area);\n",
       "}, function (err) {\n",
       "  if (err.requireType !== \"scripterror\") {\n",
       "    throw(err);\n",
       "  }\n",
       "});\n"
      ],
      "text/plain": [
       "<vega.vega.Vega at 0x106ca5588>"
      ]
     },
     "execution_count": 3,
     "metadata": {
      "jupyter-vega": "#0c91a9cb-2875-40c2-96ec-bdf1150ada26"
     },
     "output_type": "execute_result"
    },
    {
     "data": {
      "image/png": "[encoded data removed]"
     },
     "metadata": {
      "jupyter-vega": "#0c91a9cb-2875-40c2-96ec-bdf1150ada26"
     },
     "output_type": "display_data"
    }
   ],
   "source": [
    "Vega(view)"
   ]
  },
  {
   "cell_type": "code",
   "execution_count": null,
   "metadata": {},
   "outputs": [],
   "source": []
  }
 ],
 "metadata": {
  "kernelspec": {
   "display_name": "Python 3",
   "language": "python",
   "name": "python3"
  },
  "language_info": {
   "codemirror_mode": {
    "name": "ipython",
    "version": 3
   },
   "file_extension": ".py",
   "mimetype": "text/x-python",
   "name": "python",
   "nbconvert_exporter": "python",
   "pygments_lexer": "ipython3",
   "version": "3.7.3"
  }
 },
 "nbformat": 4,
 "nbformat_minor": 2
}
